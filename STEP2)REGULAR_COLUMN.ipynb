{
  "nbformat": 4,
  "nbformat_minor": 0,
  "metadata": {
    "colab": {
      "provenance": []
    },
    "kernelspec": {
      "name": "python3",
      "display_name": "Python 3"
    },
    "language_info": {
      "name": "python"
    }
  },
  "cells": [
    {
      "cell_type": "markdown",
      "source": [
        "### Base Sintética de Fraudes (PT)\n",
        "\n",
        "É criada a coluna **`regular`**, indicando se o registro não contém fraude.  \n",
        "O CSV gerado será utilizado para a detecção de anomalias.  \n",
        "\n",
        "---\n",
        "\n",
        "### Synthetic Fraud Dataset (EN)\n",
        "\n",
        "A **`regular`** column is created to indicate records without fraud.  \n",
        "The resulting CSV will be used for the anomaly detection experiment.  "
      ],
      "metadata": {
        "id": "2lprtLhiQa63"
      }
    },
    {
      "cell_type": "code",
      "source": [
        "import pandas as pd\n",
        "import numpy as np\n",
        "import random\n",
        "from datetime import datetime, timedelta\n",
        "\n",
        "# Parâmetros\n",
        "n = 10000\n",
        "fraude_pct = 0.10\n",
        "phantom_pct = 0.0333\n",
        "upcoding_pct = 0.0333\n",
        "duplicidade_pct = 0.0333\n",
        "\n",
        "np.random.seed(42)\n",
        "\n",
        "# Função para gerar datas aleatórias\n",
        "def random_date(start, end):\n",
        "    return start + timedelta(days=random.randint(0, (end - start).days))\n",
        "\n",
        "# Criar DataFrame base\n",
        "df = pd.DataFrame({\n",
        "    'id_atendimento': range(1, n + 1),\n",
        "    'beneficiario_id': np.random.randint(1000, 9999, size=n),\n",
        "    'prestador_id': np.random.randint(100, 999, size=n),\n",
        "    'data_solicitacao': [random_date(datetime(2023, 1, 1), datetime(2024, 12, 31)) for _ in range(n)],\n",
        "    'CID_': np.random.choice(['A00', 'B20', 'C34', 'D50', 'E11', 'F32', 'G40', 'H10', 'I10'], size=n),\n",
        "    'status_saude': np.random.choice([-1, 0, 1], size=n, p=[0.4, 0.4, 0.2]),\n",
        "    'tipo_atendimento': np.random.choice(['consulta', 'exame', 'cirurgia'], size=n, p=[0.6, 0.3, 0.1]),\n",
        "    'procedimento_codigo': np.random.randint(10000, 99999, size=n),\n",
        "    'autorizacao_status': np.random.choice(['aprovado', 'negado', 'pendente'], size=n, p=[0.7, 0.1, 0.2]),\n",
        "    'data_realizacao': [random_date(datetime(2023, 1, 2), datetime(2025, 1, 1)) for _ in range(n)],\n",
        "    'valor_pago': np.round(np.random.uniform(50, 1000, size=n), 2),\n",
        "    'procedimentos_urgencia': np.random.choice(['sim', 'nao'], size=n, p=[0.2, 0.8])\n",
        "})\n",
        "\n",
        "# Inicializa colunas de fraude como False\n",
        "df['phantom_billing'] = False\n",
        "df['upcoding'] = False\n",
        "df['duplicidade_pagamento'] = False\n",
        "\n",
        "# Phantom Billing (valor_pago > 0 e data_realizacao = NaT)\n",
        "phantom_idx = df.sample(frac=phantom_pct).index\n",
        "df.loc[phantom_idx, 'data_realizacao'] = pd.NaT\n",
        "df.loc[phantom_idx, 'phantom_billing'] = True\n",
        "\n",
        "# Upcoding (status_saude = -1 e procedimentos_urgencia mudado de 'nao' para 'sim')\n",
        "upcoding_idx = df[\n",
        "    (df['status_saude'] == -1) & (df['procedimentos_urgencia'] == 'nao')\n",
        "].sample(frac=upcoding_pct / 0.4).index\n",
        "df.loc[upcoding_idx, 'procedimentos_urgencia'] = 'sim'\n",
        "df.loc[upcoding_idx, 'upcoding'] = True\n",
        "\n",
        "# Duplicidade de cobrança (valor_pago multiplicado entre 3x e 5x)\n",
        "duplicidade_idx = df.sample(frac=duplicidade_pct).index\n",
        "df.loc[duplicidade_idx, 'valor_pago'] *= np.random.uniform(3, 5, size=len(duplicidade_idx))\n",
        "df.loc[duplicidade_idx, 'duplicidade_pagamento'] = True\n",
        "\n",
        "# Criar coluna 'regular': 'sim' se não houve fraude, 'não' caso contrário\n",
        "df['regular'] = np.where(\n",
        "    df['phantom_billing'] | df['upcoding'] | df['duplicidade_pagamento'],\n",
        "    'não',  # pelo menos 1 fraude\n",
        "    'sim'   # sem fraudes\n",
        ")\n",
        "\n",
        "# Exibir amostra\n",
        "print(\"Amostra de dados gerados com fraudes:\")\n",
        "print(df.head())\n",
        "\n",
        "# Salvar e baixar CSV no Google Colab\n",
        "csv_filename = \"banco_dados_sintetico_operadora.csv\"\n",
        "df.to_csv(csv_filename, index=False)\n",
        "\n",
        "from google.colab import files\n",
        "files.download(csv_filename)\n",
        "\n",
        "# Exibir exemplo das colunas de fraude + coluna regular\n",
        "print(\"\\nAmostra de 10 primeiros registros com colunas de fraude e coluna 'regular':\")\n",
        "print(df[['id_atendimento', 'phantom_billing', 'upcoding', 'duplicidade_pagamento', 'regular']].head(10))\n",
        "\n",
        "# Exibir distribuição da coluna regular\n",
        "print(\"\\nDistribuição da variável 'regular':\")\n",
        "print(df['regular'].value_counts())"
      ],
      "metadata": {
        "id": "_7UNr56J3rdl",
        "outputId": "fec1ebd3-fd4c-476c-b2b4-9e8fed060ca3",
        "colab": {
          "base_uri": "https://localhost:8080/",
          "height": 876
        }
      },
      "execution_count": null,
      "outputs": [
        {
          "output_type": "stream",
          "name": "stdout",
          "text": [
            "Amostra de dados gerados com fraudes:\n",
            "   id_atendimento  beneficiario_id  prestador_id data_solicitacao CID_  \\\n",
            "0               1             8270           464       2024-03-06  H10   \n",
            "1               2             1860           676       2023-07-23  G40   \n",
            "2               3             6390           425       2023-03-16  H10   \n",
            "3               4             6191           680       2023-04-23  B20   \n",
            "4               5             6734           732       2024-05-05  C34   \n",
            "\n",
            "   status_saude tipo_atendimento  procedimento_codigo autorizacao_status  \\\n",
            "0             1            exame                47030           aprovado   \n",
            "1             0         consulta                41792           pendente   \n",
            "2            -1         consulta                17388             negado   \n",
            "3             0         cirurgia                65697           aprovado   \n",
            "4             0         consulta                50224           pendente   \n",
            "\n",
            "  data_realizacao   valor_pago procedimentos_urgencia  phantom_billing  \\\n",
            "0      2024-08-12   392.490000                    nao            False   \n",
            "1      2023-04-25  1763.374662                    nao            False   \n",
            "2             NaT   690.640000                    nao             True   \n",
            "3      2024-11-13   793.230000                    nao            False   \n",
            "4      2023-03-30   681.830000                    nao            False   \n",
            "\n",
            "   upcoding  duplicidade_pagamento regular  \n",
            "0     False                  False     sim  \n",
            "1     False                   True     não  \n",
            "2     False                  False     não  \n",
            "3     False                  False     sim  \n",
            "4     False                  False     sim  \n"
          ]
        },
        {
          "output_type": "display_data",
          "data": {
            "text/plain": [
              "<IPython.core.display.Javascript object>"
            ],
            "application/javascript": [
              "\n",
              "    async function download(id, filename, size) {\n",
              "      if (!google.colab.kernel.accessAllowed) {\n",
              "        return;\n",
              "      }\n",
              "      const div = document.createElement('div');\n",
              "      const label = document.createElement('label');\n",
              "      label.textContent = `Downloading \"${filename}\": `;\n",
              "      div.appendChild(label);\n",
              "      const progress = document.createElement('progress');\n",
              "      progress.max = size;\n",
              "      div.appendChild(progress);\n",
              "      document.body.appendChild(div);\n",
              "\n",
              "      const buffers = [];\n",
              "      let downloaded = 0;\n",
              "\n",
              "      const channel = await google.colab.kernel.comms.open(id);\n",
              "      // Send a message to notify the kernel that we're ready.\n",
              "      channel.send({})\n",
              "\n",
              "      for await (const message of channel.messages) {\n",
              "        // Send a message to notify the kernel that we're ready.\n",
              "        channel.send({})\n",
              "        if (message.buffers) {\n",
              "          for (const buffer of message.buffers) {\n",
              "            buffers.push(buffer);\n",
              "            downloaded += buffer.byteLength;\n",
              "            progress.value = downloaded;\n",
              "          }\n",
              "        }\n",
              "      }\n",
              "      const blob = new Blob(buffers, {type: 'application/binary'});\n",
              "      const a = document.createElement('a');\n",
              "      a.href = window.URL.createObjectURL(blob);\n",
              "      a.download = filename;\n",
              "      div.appendChild(a);\n",
              "      a.click();\n",
              "      div.remove();\n",
              "    }\n",
              "  "
            ]
          },
          "metadata": {}
        },
        {
          "output_type": "display_data",
          "data": {
            "text/plain": [
              "<IPython.core.display.Javascript object>"
            ],
            "application/javascript": [
              "download(\"download_71d55aa5-80f8-4a4d-9301-078f9dcd61ae\", \"banco_dados_sintetico_operadora.csv\", 981391)"
            ]
          },
          "metadata": {}
        },
        {
          "output_type": "stream",
          "name": "stdout",
          "text": [
            "\n",
            "Amostra de 10 primeiros registros com colunas de fraude e coluna 'regular':\n",
            "   id_atendimento  phantom_billing  upcoding  duplicidade_pagamento regular\n",
            "0               1            False     False                  False     sim\n",
            "1               2            False     False                   True     não\n",
            "2               3             True     False                  False     não\n",
            "3               4            False     False                  False     sim\n",
            "4               5            False     False                  False     sim\n",
            "5               6            False     False                  False     sim\n",
            "6               7            False     False                  False     sim\n",
            "7               8            False     False                  False     sim\n",
            "8               9            False     False                  False     sim\n",
            "9              10            False     False                  False     sim\n",
            "\n",
            "Distribuição da variável 'regular':\n",
            "regular\n",
            "sim    9101\n",
            "não     899\n",
            "Name: count, dtype: int64\n"
          ]
        }
      ]
    }
  ]
}
